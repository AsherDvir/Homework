{
 "cells": [
  {
   "cell_type": "code",
   "execution_count": 1,
   "metadata": {
    "collapsed": false
   },
   "outputs": [
    {
     "ename": "ERROR",
     "evalue": "Error in eval(expr, envir, enclos): could not find function \"read.dta13\"\n",
     "output_type": "error",
     "traceback": [
      "Error in eval(expr, envir, enclos): could not find function \"read.dta13\"\n"
     ]
    },
    {
     "ename": "ERROR",
     "evalue": "Error in eval(expr, envir, enclos): could not find function \"get.label.name\"\n",
     "output_type": "error",
     "traceback": [
      "Error in eval(expr, envir, enclos): could not find function \"get.label.name\"\n"
     ]
    },
    {
     "ename": "ERROR",
     "evalue": "Error in eval(expr, envir, enclos): could not find function \"get.label\"\n",
     "output_type": "error",
     "traceback": [
      "Error in eval(expr, envir, enclos): could not find function \"get.label\"\n"
     ]
    },
    {
     "ename": "ERROR",
     "evalue": "Error in eval(expr, envir, enclos): could not find function \"get.origin.codes\"\n",
     "output_type": "error",
     "traceback": [
      "Error in eval(expr, envir, enclos): could not find function \"get.origin.codes\"\n"
     ]
    },
    {
     "ename": "ERROR",
     "evalue": "Error in eval(expr, envir, enclos): object 'dat' not found\n",
     "output_type": "error",
     "traceback": [
      "Error in eval(expr, envir, enclos): object 'dat' not found\n"
     ]
    },
    {
     "ename": "ERROR",
     "evalue": "Error in head(dat): object 'dat' not found\n",
     "output_type": "error",
     "traceback": [
      "Error in head(dat): object 'dat' not found\n"
     ]
    },
    {
     "ename": "ERROR",
     "evalue": "Error in eval(expr, envir, enclos): object 'dat' not found\n",
     "output_type": "error",
     "traceback": [
      "Error in eval(expr, envir, enclos): object 'dat' not found\n"
     ]
    },
    {
     "ename": "ERROR",
     "evalue": "Error in subset(dat, dat$Mean_Net_Wages != 0 & dat$hours_worked_last_week != : object 'dat' not found\n",
     "output_type": "error",
     "traceback": [
      "Error in subset(dat, dat$Mean_Net_Wages != 0 & dat$hours_worked_last_week != : object 'dat' not found\n"
     ]
    },
    {
     "ename": "ERROR",
     "evalue": "Error in nrow(sub.sample): object 'sub.sample' not found\n",
     "output_type": "error",
     "traceback": [
      "Error in nrow(sub.sample): object 'sub.sample' not found\n"
     ]
    },
    {
     "ename": "ERROR",
     "evalue": "Error in sample(index, trunc(length(index) * 0.9)): object 'index' not found\n",
     "output_type": "error",
     "traceback": [
      "Error in sample(index, trunc(length(index) * 0.9)): object 'index' not found\n"
     ]
    },
    {
     "ename": "ERROR",
     "evalue": "Error in eval(expr, envir, enclos): object 'sub.sample' not found\n",
     "output_type": "error",
     "traceback": [
      "Error in eval(expr, envir, enclos): object 'sub.sample' not found\n"
     ]
    },
    {
     "ename": "ERROR",
     "evalue": "Error in eval(expr, envir, enclos): object 'sub.sample' not found\n",
     "output_type": "error",
     "traceback": [
      "Error in eval(expr, envir, enclos): object 'sub.sample' not found\n"
     ]
    },
    {
     "ename": "ERROR",
     "evalue": "Error in eval(expr, envir, enclos): object 'estimated.set' not found\n",
     "output_type": "error",
     "traceback": [
      "Error in eval(expr, envir, enclos): object 'estimated.set' not found\n"
     ]
    },
    {
     "ename": "ERROR",
     "evalue": "Error in eval(expr, envir, enclos): object 'predicted.set' not found\n",
     "output_type": "error",
     "traceback": [
      "Error in eval(expr, envir, enclos): object 'predicted.set' not found\n"
     ]
    },
    {
     "ename": "ERROR",
     "evalue": "Error in is.data.frame(data): object 'estimated.set' not found\n",
     "output_type": "error",
     "traceback": [
      "Error in is.data.frame(data): object 'estimated.set' not found\n"
     ]
    },
    {
     "ename": "ERROR",
     "evalue": "Error in summary(fit2): object 'fit2' not found\n",
     "output_type": "error",
     "traceback": [
      "Error in summary(fit2): object 'fit2' not found\n"
     ]
    },
    {
     "ename": "ERROR",
     "evalue": "Error in is.data.frame(data): object 'dat' not found\n",
     "output_type": "error",
     "traceback": [
      "Error in is.data.frame(data): object 'dat' not found\n"
     ]
    },
    {
     "ename": "ERROR",
     "evalue": "Error in summary(fit): object 'fit' not found\n",
     "output_type": "error",
     "traceback": [
      "Error in summary(fit): object 'fit' not found\n"
     ]
    },
    {
     "ename": "ERROR",
     "evalue": "Error in predict(fit2, predicted.set): object 'fit2' not found\n",
     "output_type": "error",
     "traceback": [
      "Error in predict(fit2, predicted.set): object 'fit2' not found\n"
     ]
    },
    {
     "ename": "ERROR",
     "evalue": "Error in eval(expr, envir, enclos): object 'values_predicted' not found\n",
     "output_type": "error",
     "traceback": [
      "Error in eval(expr, envir, enclos): object 'values_predicted' not found\n"
     ]
    },
    {
     "ename": "ERROR",
     "evalue": "Error in summary(inverse_log_predicted_values): object 'inverse_log_predicted_values' not found\n",
     "output_type": "error",
     "traceback": [
      "Error in summary(inverse_log_predicted_values): object 'inverse_log_predicted_values' not found\n"
     ]
    },
    {
     "ename": "ERROR",
     "evalue": "Error in summary(predicted.set$Mean_Net_Wages): object 'predicted.set' not found\n",
     "output_type": "error",
     "traceback": [
      "Error in summary(predicted.set$Mean_Net_Wages): object 'predicted.set' not found\n"
     ]
    },
    {
     "ename": "ERROR",
     "evalue": "Error in summary(estimated.set$Mean_Net_Wages): object 'estimated.set' not found\n",
     "output_type": "error",
     "traceback": [
      "Error in summary(estimated.set$Mean_Net_Wages): object 'estimated.set' not found\n"
     ]
    },
    {
     "ename": "ERROR",
     "evalue": "Error in eval(expr, envir, enclos): object 'predicted.set' not found\n",
     "output_type": "error",
     "traceback": [
      "Error in eval(expr, envir, enclos): object 'predicted.set' not found\n"
     ]
    },
    {
     "ename": "ERROR",
     "evalue": "Error in plot(resid_wage): object 'resid_wage' not found\n",
     "output_type": "error",
     "traceback": [
      "Error in plot(resid_wage): object 'resid_wage' not found\n"
     ]
    },
    {
     "ename": "ERROR",
     "evalue": "Error in hist(resid_wage): object 'resid_wage' not found\n",
     "output_type": "error",
     "traceback": [
      "Error in hist(resid_wage): object 'resid_wage' not found\n"
     ]
    },
    {
     "ename": "ERROR",
     "evalue": "Error in density(resid_wage, na.rm = TRUE): object 'resid_wage' not found\n",
     "output_type": "error",
     "traceback": [
      "Error in density(resid_wage, na.rm = TRUE): object 'resid_wage' not found\n"
     ]
    },
    {
     "ename": "ERROR",
     "evalue": "Error in eval(expr, envir, enclos): object 'resid_wage' not found\n",
     "output_type": "error",
     "traceback": [
      "Error in eval(expr, envir, enclos): object 'resid_wage' not found\n"
     ]
    },
    {
     "ename": "ERROR",
     "evalue": "Error in density(ln_resid_wage, na.rm = TRUE): object 'ln_resid_wage' not found\n",
     "output_type": "error",
     "traceback": [
      "Error in density(ln_resid_wage, na.rm = TRUE): object 'ln_resid_wage' not found\n"
     ]
    },
    {
     "ename": "ERROR",
     "evalue": "Error in plot(predicted.set$Mean_Net_Wages, residuals_predicted, ylab = \"Residuals\", : object 'predicted.set' not found\n",
     "output_type": "error",
     "traceback": [
      "Error in plot(predicted.set$Mean_Net_Wages, residuals_predicted, ylab = \"Residuals\", : object 'predicted.set' not found\n"
     ]
    },
    {
     "ename": "ERROR",
     "evalue": "Error in int_abline(a = a, b = b, h = h, v = v, untf = untf, ...): plot.new has not been called yet\n",
     "output_type": "error",
     "traceback": [
      "Error in int_abline(a = a, b = b, h = h, v = v, untf = untf, ...): plot.new has not been called yet\n"
     ]
    },
    {
     "ename": "ERROR",
     "evalue": "Error in eval(expr, envir, enclos): object 'predicted.set' not found\n",
     "output_type": "error",
     "traceback": [
      "Error in eval(expr, envir, enclos): object 'predicted.set' not found\n"
     ]
    },
    {
     "ename": "ERROR",
     "evalue": "Error in eval(expr, envir, enclos): object 'predicted.set' not found\n",
     "output_type": "error",
     "traceback": [
      "Error in eval(expr, envir, enclos): object 'predicted.set' not found\n"
     ]
    },
    {
     "ename": "ERROR",
     "evalue": "Error in eval(expr, envir, enclos): object 'inverse_log_predicted_values' not found\n",
     "output_type": "error",
     "traceback": [
      "Error in eval(expr, envir, enclos): object 'inverse_log_predicted_values' not found\n"
     ]
    },
    {
     "data": {
      "text/plain": [
       "   Min. 1st Qu.  Median    Mean 3rd Qu.    Max. \n",
       "  2.284   2.284   2.284   2.284   2.284   2.284 "
      ]
     },
     "execution_count": 1,
     "metadata": {},
     "output_type": "execute_result"
    }
   ],
   "source": [
    "\n",
    "setwd(\"C:/Users/Asher/OneDrive/Roma Paper/Data/World Bank Long 2013\")\n",
    "# Download packages to import stata file\n",
    "#install.packages('readstata13', dependencies=TRUE, repos='http://cran.rstudio.com/')\n",
    "#library(readstata13)\n",
    "\n",
    "#Import stata file\n",
    "dat <- read.dta13(\"Data_For_R.dta\")\n",
    "labname <- get.label.name(dat,\"type\")\n",
    "labtab <- get.label(dat, labname)\n",
    "get.origin.codes(dat$type, labtab)\n",
    "as.integer(dat$type)\n",
    "# Examine data\n",
    "head(dat)\n",
    "dim(dat)\n",
    "\n",
    "\n",
    "\n",
    "# 2) Split your dataset into a 'training' and 'testing' dataset. \n",
    "#That is, you will fit your models only on the training set and try to predict the other. \n",
    "#This is usually 90:10 testing:training (I will call these estimated and predicted, respectively)\n",
    "\n",
    "#Create a subsample for those observation I'm interested in. \n",
    "#That is, those in sample who work\n",
    "sub.sample <- subset(dat, dat$Mean_Net_Wages!=0 & dat$hours_worked_last_week!=0)\n",
    "\n",
    "#Index observations from 1 to 7492\n",
    "index<- 1:nrow(sub.sample)\n",
    "\n",
    "#Create dataframe for 90 percent of sample\n",
    "estimated.index <- sample(index, trunc(length(index)*0.9))\n",
    "estimated.set <- sub.sample[estimated.index, ]\n",
    "\n",
    "# create a datafram which uses observations according to all numbers which \n",
    "# are not contained in the indexvector \n",
    "predicted.set <- sub.sample[-estimated.index, ]\n",
    "\n",
    "dim(estimated.set)\n",
    "dim(predicted.set)\n",
    "\n",
    "# 3) Estimate your linear model over only the training dataset.\n",
    "# I use a log-linear model. This wage data, like nearly wage data, for a random sample is right-s\n",
    "fit2 <- lm(log(Mean_Net_Wages) ~ Roma + child_under_6 + child_under_6_int + child_6_to_17 + child_6_to_17_int + highest_education + highest_education_int + age_factor + age_factor_int, data=estimated.set)\n",
    "summary(fit2) # show results for training set\n",
    "\n",
    "fit <- lm(log(Mean_Net_Wages) ~ Roma + child_under_6 + child_under_6_int + child_6_to_17 + child_6_to_17_int + highest_education + highest_education_int + age_factor + age_factor_int, data=dat)\n",
    "summary(fit)  # show results for the whole sample\n",
    "\n",
    "#I follow the advice of the author here on coverting the values. http://davegiles.blogspot.fr/2013/08/forecasting-from-log-linear-regressions.html\n",
    "\n",
    "# 4) Using the results from your estimation, try to predict the outcomes in the testing dataset.\n",
    "values_predicted <- predict(fit2, predicted.set)\n",
    "\n",
    "# Take the inverse log of the values predicted to make them equal to euros earned.\n",
    "inverse_log_predicted_values <- exp(values_predicted)\n",
    "summary(inverse_log_predicted_values)\n",
    "summary(predicted.set$Mean_Net_Wages)\n",
    "summary(estimated.set$Mean_Net_Wages)\n",
    "\n",
    "# NOTE: Evidently, the true equation should be of this form: y = exp{[log(y)] + ( s2 / 2)}. However I don't understand how or, exactly\n",
    "# what this variance term is. See http://davegiles.blogspot.fr/2013/08/forecasting-from-log-linear-regressions.html \n",
    "\n",
    "\n",
    "\n",
    "# 5) Calculate the mean squared error of your estimate. Plot the residuals\n",
    "# Do any other error analysis you might see as interesting.\n",
    "\n",
    "#WAGES_Convert <- predicted.set$Mean_Net_Wages\n",
    "#WAGES_2 <- as.numeric(as.character(WAGES_Convert))\n",
    "\n",
    "resid_wage <- (predicted.set$Mean_Net_Wages - inverse_log_predicted_values)\n",
    "\n",
    "#residuals_predicted\n",
    "plot(resid_wage)\n",
    "\n",
    "plot(hist(resid_wage))\n",
    "plot(density(resid_wage, na.rm = TRUE))\n",
    "\n",
    "ln_resid_wage <- log(resid_wage)\n",
    "plot(density(ln_resid_wage, na.rm = TRUE))\n",
    "\n",
    "\n",
    "# Residual plot\n",
    "plot(predicted.set$Mean_Net_Wages, residuals_predicted, \n",
    "     ylab=\"Residuals\", xlab=\"Mean Wages\") \n",
    " abline(0, 0) \n",
    "\n",
    " \n",
    "#Mis....\n",
    "is.atomic(predicted.set$Mean_Net_Wages)\n",
    "WAGES_2 <- as.numeric(as.character(predicted.set$Mean_Net_Wages))\n",
    "\n",
    "X <- (inverse_log_predicted_values - WAGES_2)\n",
    "Y <- mean(X)\n",
    "MSE <- Y^2\n",
    "#MSE <-  1/*sum((inverse_log_predicted_values - WAGES_2)^2)\n",
    "summary(MSE)"
   ]
  },
  {
   "cell_type": "code",
   "execution_count": null,
   "metadata": {
    "collapsed": true
   },
   "outputs": [],
   "source": []
  }
 ],
 "metadata": {
  "anaconda-cloud": {},
  "kernelspec": {
   "display_name": "R",
   "language": "R",
   "name": "ir"
  },
  "language_info": {
   "codemirror_mode": "r",
   "file_extension": ".r",
   "mimetype": "text/x-r-source",
   "name": "R",
   "pygments_lexer": "r",
   "version": "3.1.3"
  }
 },
 "nbformat": 4,
 "nbformat_minor": 0
}
