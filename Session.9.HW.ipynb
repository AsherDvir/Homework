{
 "cells": [
  {
   "cell_type": "code",
   "execution_count": 4,
   "metadata": {
    "collapsed": false
   },
   "outputs": [
    {
     "data": {
      "text/html": [
       "0.0253871082366639"
      ],
      "text/latex": [
       "0.0253871082366639"
      ],
      "text/markdown": [
       "0.0253871082366639"
      ],
      "text/plain": [
       "[1] 0.02538711"
      ]
     },
     "execution_count": 4,
     "metadata": {},
     "output_type": "execute_result"
    },
    {
     "data": {
      "text/html": [
       "33.2683982373085"
      ],
      "text/latex": [
       "33.2683982373085"
      ],
      "text/markdown": [
       "33.2683982373085"
      ],
      "text/plain": [
       "[1] 33.2684"
      ]
     },
     "execution_count": 4,
     "metadata": {},
     "output_type": "execute_result"
    }
   ],
   "source": [
    "# Write a function that simulates the following model\n",
    "# y_i = beta_0 + beta_1 x_i + epsilon_i \n",
    "# where x_i ~ N(0,1)\n",
    "\n",
    "N <- 10000\n",
    "y_i <- rnorm(N, mean = 34, sd = 2)\n",
    "x_i <- rnorm(N, mean = 0, sd = 1)\n",
    "\n",
    "D <- 1/N\n",
    "beta_1 <- ((D*sum(x_i*y_i))-(D*sum(y_i))*(D*sum(x_i)))/((D*sum(x_i^2))-(D*sum(x_i))^2)\n",
    "beta_0 <- D*sum(y_i)-((beta_1)*sum(x_i))      \n",
    "beta_1\n",
    "beta_0"
   ]
  },
  {
   "cell_type": "code",
   "execution_count": 5,
   "metadata": {
    "collapsed": false
   },
   "outputs": [
    {
     "data": {
      "text/plain": [
       "\n",
       "Call:\n",
       "lm(formula = y_i ~ x_i)\n",
       "\n",
       "Residuals:\n",
       "    Min      1Q  Median      3Q     Max \n",
       "-7.7619 -1.3329 -0.0196  1.3258  7.5182 \n",
       "\n",
       "Coefficients:\n",
       "            Estimate Std. Error  t value Pr(>|t|)    \n",
       "(Intercept) 33.99837    0.01978 1718.823   <2e-16 ***\n",
       "x_i          0.02539    0.01985    1.279    0.201    \n",
       "---\n",
       "Signif. codes:  0 '***' 0.001 '**' 0.01 '*' 0.05 '.' 0.1 ' ' 1\n",
       "\n",
       "Residual standard error: 1.978 on 9998 degrees of freedom\n",
       "Multiple R-squared:  0.0001636,\tAdjusted R-squared:  6.362e-05 \n",
       "F-statistic: 1.636 on 1 and 9998 DF,  p-value: 0.2009\n"
      ]
     },
     "execution_count": 5,
     "metadata": {},
     "output_type": "execute_result"
    },
    {
     "data": {
      "text/html": [
       "<table>\n",
       "<thead><tr><th></th><th scope=col>Df</th><th scope=col>Sum Sq</th><th scope=col>Mean Sq</th><th scope=col>F value</th><th scope=col>Pr(>F)</th></tr></thead>\n",
       "<tbody>\n",
       "\t<tr><th scope=row>x_i</th><td>1</td><td>6.401503</td><td>6.401503</td><td>1.636183</td><td>0.2008797</td></tr>\n",
       "\t<tr><th scope=row>Residuals</th><td>9998</td><td>39116.8</td><td>3.912462</td><td>NA</td><td>NA</td></tr>\n",
       "</tbody>\n",
       "</table>\n"
      ],
      "text/latex": [
       "\\begin{tabular}{r|lllll}\n",
       "  & Df & Sum Sq & Mean Sq & F value & Pr(>F)\\\\\n",
       "\\hline\n",
       "\tx_i & 1 & 6.401503 & 6.401503 & 1.636183 & 0.2008797\\\\\n",
       "\tResiduals & 9998 & 39116.8 & 3.912462 & NA & NA\\\\\n",
       "\\end{tabular}\n"
      ],
      "text/plain": [
       "Analysis of Variance Table\n",
       "\n",
       "Response: y_i\n",
       "            Df Sum Sq Mean Sq F value Pr(>F)\n",
       "x_i          1      6  6.4015  1.6362 0.2009\n",
       "Residuals 9998  39117  3.9125               "
      ]
     },
     "execution_count": 5,
     "metadata": {},
     "output_type": "execute_result"
    },
    {
     "data": {
      "text/html": [
       "39116.8000584717"
      ],
      "text/latex": [
       "39116.8000584717"
      ],
      "text/markdown": [
       "39116.8000584717"
      ],
      "text/plain": [
       "[1] 39116.8"
      ]
     },
     "execution_count": 5,
     "metadata": {},
     "output_type": "execute_result"
    }
   ],
   "source": [
    "#Regression with R \n",
    "#And express SSR for the R model\n",
    "fit <- lm(y_i ~ x_i)\n",
    "summary(fit)\n",
    "anova(fit) #See SSR\n",
    "sum(fit$residuals^2) #Again, same SSR\n"
   ]
  },
  {
   "cell_type": "code",
   "execution_count": 6,
   "metadata": {
    "collapsed": false
   },
   "outputs": [
    {
     "data": {
      "text/html": [
       "<ol class=list-inline>\n",
       "\t<li>33.2785588710211</li>\n",
       "\t<li>33.2323453003434</li>\n",
       "\t<li>33.2413240014727</li>\n",
       "\t<li>33.2762604108278</li>\n",
       "\t<li>33.264157795444</li>\n",
       "\t<li>33.2626825455422</li>\n",
       "</ol>\n"
      ],
      "text/latex": [
       "\\begin{enumerate*}\n",
       "\\item 33.2785588710211\n",
       "\\item 33.2323453003434\n",
       "\\item 33.2413240014727\n",
       "\\item 33.2762604108278\n",
       "\\item 33.264157795444\n",
       "\\item 33.2626825455422\n",
       "\\end{enumerate*}\n"
      ],
      "text/markdown": [
       "1. 33.2785588710211\n",
       "2. 33.2323453003434\n",
       "3. 33.2413240014727\n",
       "4. 33.2762604108278\n",
       "5. 33.264157795444\n",
       "6. 33.2626825455422\n",
       "\n",
       "\n"
      ],
      "text/plain": [
       "[1] 33.27856 33.23235 33.24132 33.27626 33.26416 33.26268"
      ]
     },
     "execution_count": 6,
     "metadata": {},
     "output_type": "execute_result"
    },
    {
     "data": {
      "text/html": [
       "33.2684712416235"
      ],
      "text/latex": [
       "33.2684712416235"
      ],
      "text/markdown": [
       "33.2684712416235"
      ],
      "text/plain": [
       "[1] 33.26847"
      ]
     },
     "execution_count": 6,
     "metadata": {},
     "output_type": "execute_result"
    },
    {
     "data": {
      "text/html": [
       "33.2937853455452"
      ],
      "text/latex": [
       "33.2937853455452"
      ],
      "text/markdown": [
       "33.2937853455452"
      ],
      "text/plain": [
       "[1] 33.29379"
      ]
     },
     "execution_count": 6,
     "metadata": {},
     "output_type": "execute_result"
    },
    {
     "data": {
      "text/html": [
       "44445.364188399"
      ],
      "text/latex": [
       "44445.364188399"
      ],
      "text/markdown": [
       "44445.364188399"
      ],
      "text/plain": [
       "[1] 44445.36"
      ]
     },
     "execution_count": 6,
     "metadata": {},
     "output_type": "execute_result"
    }
   ],
   "source": [
    "#Calculate Sum of Square Residuals for the Equation Approach\n",
    "predicted_regressor <- (beta_0 + beta_1*x_i)\n",
    "head(predicted_regressor)\n",
    "mean(predicted_regressor)\n",
    "beta_0+beta_1 \n",
    "#Similar results btwn b_0 + b_1 and predicted_regressor\n",
    "\n",
    "RSS <- sum((y_i-predicted_regressor)^2)\n",
    "RSS # The difference is huge. I don't understand why. "
   ]
  },
  {
   "cell_type": "code",
   "execution_count": 7,
   "metadata": {
    "collapsed": false
   },
   "outputs": [
    {
     "data": {
      "text/html": [
       "5328.56412992732"
      ],
      "text/latex": [
       "5328.56412992732"
      ],
      "text/markdown": [
       "5328.56412992732"
      ],
      "text/plain": [
       "[1] 5328.564"
      ]
     },
     "execution_count": 7,
     "metadata": {},
     "output_type": "execute_result"
    },
    {
     "data": {
      "text/html": [
       "5.32856412992732e-05"
      ],
      "text/latex": [
       "5.32856412992732e-05"
      ],
      "text/markdown": [
       "5.32856412992732e-05"
      ],
      "text/plain": [
       "[1] 5.328564e-05"
      ]
     },
     "execution_count": 7,
     "metadata": {},
     "output_type": "execute_result"
    },
    {
     "data": {
      "text/html": [
       "10000"
      ],
      "text/latex": [
       "10000"
      ],
      "text/markdown": [
       "10000"
      ],
      "text/plain": [
       "[1] 10000"
      ]
     },
     "execution_count": 7,
     "metadata": {},
     "output_type": "execute_result"
    }
   ],
   "source": [
    "#Sum of Square Residuals btwn the Two Approaches\n",
    "#  I do not know what this is technically called\n",
    "#  It is not SSR, given that the term it equals is \n",
    "#  the error term for the two models, rather than the \n",
    "#  error term in one model\n",
    "sum((fit$fitted.values - predicted_regressor)^2) \n",
    "RRS_two_models <- (sum((fit$fitted.values - predicted_regressor)^2))/N\n",
    "mean_SSR <- RRS_two_models/N\n",
    "mean_SSR\n",
    "N"
   ]
  },
  {
   "cell_type": "code",
   "execution_count": null,
   "metadata": {
    "collapsed": true
   },
   "outputs": [],
   "source": []
  }
 ],
 "metadata": {
  "kernelspec": {
   "display_name": "R",
   "language": "R",
   "name": "ir"
  },
  "language_info": {
   "codemirror_mode": "r",
   "file_extension": ".r",
   "mimetype": "text/x-r-source",
   "name": "R",
   "pygments_lexer": "r",
   "version": "3.1.3"
  }
 },
 "nbformat": 4,
 "nbformat_minor": 0
}
